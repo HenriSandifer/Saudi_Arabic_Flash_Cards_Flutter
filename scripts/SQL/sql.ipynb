{
 "cells": [
  {
   "cell_type": "code",
   "execution_count": null,
   "id": "eee58266",
   "metadata": {
    "vscode": {
     "languageId": "sql"
    }
   },
   "outputs": [],
   "source": [
    "CREATE TABLE word (\n",
    "  id INTEGER PRIMARY KEY AUTOINCREMENT,\n",
    "  arabic TEXT NOT NULL,\n",
    "  transliteration TEXT,\n",
    "  english TEXT,\n",
    "  audio_path TEXT,\n",
    "  category_id INTEGER,\n",
    "  FOREIGN KEY (category_id) REFERENCES category(id)\n",
    ");"
   ]
  },
  {
   "cell_type": "code",
   "execution_count": null,
   "id": "476acc27",
   "metadata": {
    "vscode": {
     "languageId": "sql"
    }
   },
   "outputs": [],
   "source": [
    "CREATE TABLE phrase (\n",
    "  id INTEGER PRIMARY KEY AUTOINCREMENT,\n",
    "  arabic TEXT NOT NULL,\n",
    "  transliteration TEXT,\n",
    "  english TEXT,\n",
    "  audio_path TEXT\n",
    ");"
   ]
  },
  {
   "cell_type": "code",
   "execution_count": null,
   "id": "798c191e",
   "metadata": {
    "vscode": {
     "languageId": "sql"
    }
   },
   "outputs": [],
   "source": [
    "CREATE TABLE structure (\n",
    "  id INTEGER PRIMARY KEY AUTOINCREMENT,\n",
    "  name TEXT NOT NULL\n",
    ");\n",
    "\n",
    "CREATE TABLE function (\n",
    "  id INTEGER PRIMARY KEY AUTOINCREMENT,\n",
    "  name TEXT NOT NULL\n",
    ");\n",
    "\n",
    "CREATE TABLE theme (\n",
    "  id INTEGER PRIMARY KEY AUTOINCREMENT,\n",
    "  name TEXT NOT NULL\n",
    ");\n",
    "\n",
    "CREATE TABLE utility (\n",
    "  id INTEGER PRIMARY KEY AUTOINCREMENT,\n",
    "  name TEXT NOT NULL\n",
    ");\n",
    "\n",
    "CREATE TABLE tone (\n",
    "  id INTEGER PRIMARY KEY AUTOINCREMENT,\n",
    "  name TEXT NOT NULL\n",
    ");\n"
   ]
  },
  {
   "cell_type": "code",
   "execution_count": null,
   "id": "76fcea9c",
   "metadata": {
    "vscode": {
     "languageId": "sql"
    }
   },
   "outputs": [],
   "source": [
    "CREATE TABLE phrase_structure (\n",
    "  phrase_id INTEGER,\n",
    "  structure_id INTEGER,\n",
    "  FOREIGN KEY (phrase_id) REFERENCES phrase(id),\n",
    "  FOREIGN KEY (structure_id) REFERENCES structure(id),\n",
    "  PRIMARY KEY (phrase_id, structure_id)\n",
    ");\n",
    "\n",
    "CREATE TABLE phrase_function (\n",
    "  phrase_id INTEGER,\n",
    "  function_id INTEGER,\n",
    "  FOREIGN KEY (phrase_id) REFERENCES phrase(id),\n",
    "  FOREIGN KEY (function_id) REFERENCES function(id),\n",
    "  PRIMARY KEY (phrase_id, function_id)\n",
    ");\n",
    "\n",
    "CREATE TABLE phrase_theme (\n",
    "  phrase_id INTEGER,\n",
    "  theme_id INTEGER,\n",
    "  FOREIGN KEY (phrase_id) REFERENCES phrase(id),\n",
    "  FOREIGN KEY (theme_id) REFERENCES theme(id),\n",
    "  PRIMARY KEY (phrase_id, theme_id)\n",
    ");\n",
    "\n",
    "CREATE TABLE phrase_utility (\n",
    "  phrase_id INTEGER,\n",
    "  utility_id INTEGER,\n",
    "  FOREIGN KEY (phrase_id) REFERENCES phrase(id),\n",
    "  FOREIGN KEY (utility_id) REFERENCES utility(id),\n",
    "  PRIMARY KEY (phrase_id, utility_id)\n",
    ");\n",
    "\n",
    "CREATE TABLE phrase_tone (\n",
    "  phrase_id INTEGER,\n",
    "  tone_id INTEGER,\n",
    "  FOREIGN KEY (phrase_id) REFERENCES phrase(id),\n",
    "  FOREIGN KEY (tone_id) REFERENCES tone(id),\n",
    "  PRIMARY KEY (phrase_id, tone_id)\n",
    ");\n",
    "\n"
   ]
  },
  {
   "cell_type": "code",
   "execution_count": null,
   "id": "cf5d48f3",
   "metadata": {
    "vscode": {
     "languageId": "sql"
    }
   },
   "outputs": [],
   "source": [
    "CREATE TABLE word_theme (\n",
    "  word_id INTEGER,\n",
    "  theme_id INTEGER,\n",
    "  FOREIGN KEY (word_id) REFERENCES word(id),\n",
    "  FOREIGN KEY (theme_id) REFERENCES theme(id),\n",
    "  PRIMARY KEY (word_id, theme_id)\n",
    ");\n"
   ]
  },
  {
   "cell_type": "code",
   "execution_count": null,
   "id": "f402296a",
   "metadata": {
    "vscode": {
     "languageId": "sql"
    }
   },
   "outputs": [],
   "source": [
    "SELECT p.*\n",
    "FROM phrase p\n",
    "JOIN phrase_structure ps ON p.id = ps.phrase_id\n",
    "JOIN structure s ON ps.structure_id = s.id\n",
    "JOIN phrase_function pf ON p.id = pf.phrase_id\n",
    "JOIN function f ON pf.function_id = f.id\n",
    "JOIN phrase_utility pu ON p.id = pu.phrase_id\n",
    "JOIN utility u ON pu.utility_id = u.id\n",
    "WHERE s.name = 'negation'\n",
    "  AND f.name = 'asking for information'\n",
    "  AND u.name = 'high frequency';"
   ]
  }
 ],
 "metadata": {
  "language_info": {
   "name": "python"
  }
 },
 "nbformat": 4,
 "nbformat_minor": 5
}
